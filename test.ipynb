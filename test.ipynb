{
 "cells": [
  {
   "cell_type": "code",
   "execution_count": 2,
   "id": "f5d668ec",
   "metadata": {},
   "outputs": [],
   "source": [
    "import json\n",
    "data = {\"Rinatsai\": \"蔡竺臻\",\n",
    "             \"ε\": \"彭守毅\",\n",
    "             \"Dustin\": \"李冠德\",\n",
    "             \"R\": \"歐睿仁\",\n",
    "             \"Jason\": \"李致頡\"}\n",
    "with open('data.json', 'w') as f:\n",
    "    json.dump(data, f, indent=4, ensure_ascii=False)"
   ]
  }
 ],
 "metadata": {
  "kernelspec": {
   "display_name": "venv (3.13.3)",
   "language": "python",
   "name": "python3"
  },
  "language_info": {
   "codemirror_mode": {
    "name": "ipython",
    "version": 3
   },
   "file_extension": ".py",
   "mimetype": "text/x-python",
   "name": "python",
   "nbconvert_exporter": "python",
   "pygments_lexer": "ipython3",
   "version": "3.13.3"
  }
 },
 "nbformat": 4,
 "nbformat_minor": 5
}
